{
 "cells": [
  {
   "cell_type": "markdown",
   "id": "cf8b56f2-3dc4-417b-a49d-1fe3084bd95a",
   "metadata": {},
   "source": [
    "## Importing Libraries"
   ]
  },
  {
   "cell_type": "code",
   "execution_count": 8,
   "id": "b5b6148e-8d76-4a19-a297-e610d634222e",
   "metadata": {},
   "outputs": [],
   "source": [
    "import pandas as pd\n",
    "import numpy as np\n",
    "import os\n",
    "import matplotlib.pyplot as plt\n",
    "import seaborn as sns\n",
    "import scipy"
   ]
  },
  {
   "cell_type": "markdown",
   "id": "9c6b18d9-218e-48f2-8946-765d6ce48e1c",
   "metadata": {},
   "source": [
    "## Importing Data"
   ]
  },
  {
   "cell_type": "code",
   "execution_count": 12,
   "id": "353963c5-ee74-486e-b0a4-a625c515efc0",
   "metadata": {},
   "outputs": [],
   "source": [
    "# main folder\n",
    "path = r'C:\\Users\\steve\\Documents\\11.24 Instacart Basket Analysis'\n",
    "\n",
    "# ords_checked\n",
    "opc = pd.read_pickle(os.path.join(path, '02 Data', 'Prepared Data', 'opc_checked.pkl'))"
   ]
  },
  {
   "cell_type": "markdown",
   "id": "94755419-e9a6-49e4-8ee9-6f8e60d2f40c",
   "metadata": {},
   "source": [
    "## Analysis"
   ]
  },
  {
   "cell_type": "markdown",
   "id": "2eb6b04d-4afe-45bc-9e37-6f4eb14720c2",
   "metadata": {},
   "source": [
    "#### 01. Regions"
   ]
  },
  {
   "cell_type": "code",
   "execution_count": 15,
   "id": "d19a4494-d952-4c85-b44c-9a764a2a426c",
   "metadata": {},
   "outputs": [],
   "source": [
    "# create lists for each region\n",
    "northeast = ['Maine', 'New Hampshire', 'Vermont', 'Massachusetts', 'Rhode Island', 'Connecticut', 'New York', 'Pennsylvania', 'New Jersey']\n",
    "midwest = ['Wisconsin', 'Michigan', 'Illinois', 'Indiana', 'Ohio', 'North Dakota', 'South Dakota', 'Nebraska', 'Kansas', 'Minnesota', 'Iowa', 'Missouri']\n",
    "south = ['Delaware', 'Maryland', 'District of Columbia', 'Virginia', 'West Virginia', 'North Carolina', 'South Carolina', 'Georgia', 'Florida', 'Kentucky', 'Tennessee', 'Mississippi', 'Alabama', 'Oklahoma', 'Texas', 'Arkansas', 'Louisiana']\n",
    "west = ['Idaho', 'Montana', 'Wyoming', 'Nevada', 'Utah', 'Colorado', 'Arizona', 'New Mexico', 'Alaska', 'Washington', 'Oregon', 'California', 'Hawaii']"
   ]
  },
  {
   "cell_type": "code",
   "execution_count": 16,
   "id": "23a5a8ba-c57c-4545-b965-d1b2d1788ab0",
   "metadata": {},
   "outputs": [],
   "source": [
    "# define function that will assign region based on [state] column\n",
    "result = []\n",
    "\n",
    "for value in opc['state']:\n",
    "    if value in northeast:\n",
    "        result.append('northeast')\n",
    "    elif value in midwest:\n",
    "        result.append('midwest')\n",
    "    elif value in south:\n",
    "        result.append('south')\n",
    "    elif value in west:\n",
    "        result.append('west')\n",
    "    else: \n",
    "        result.append('error')"
   ]
  },
  {
   "cell_type": "code",
   "execution_count": 17,
   "id": "b379bf01-3142-4021-ab19-5ba0d389be86",
   "metadata": {},
   "outputs": [],
   "source": [
    "# set a new column in df equal to result\n",
    "opc['region'] = result"
   ]
  },
  {
   "cell_type": "code",
   "execution_count": 18,
   "id": "c6094f6f-b613-45a5-8b28-06d24c2d75da",
   "metadata": {},
   "outputs": [
    {
     "data": {
      "text/plain": [
       "region\n",
       "south        10790096\n",
       "west          8291679\n",
       "midwest       7596065\n",
       "northeast     5721892\n",
       "Name: count, dtype: int64"
      ]
     },
     "execution_count": 18,
     "metadata": {},
     "output_type": "execute_result"
    }
   ],
   "source": [
    "opc['region'].value_counts(dropna = False)"
   ]
  },
  {
   "cell_type": "code",
   "execution_count": 19,
   "id": "6dc2d728-cc3f-4ac8-9526-4e600c579fb6",
   "metadata": {},
   "outputs": [],
   "source": [
    "# the following were used to troubleshoot when had values appearing with the 'error' tag\n",
    "# ----------\n",
    "#region_error = opc[opc['region'] == 'error']\n",
    "#region_error['state'].value_counts(dropna = False)"
   ]
  },
  {
   "cell_type": "markdown",
   "id": "349996a6-0a35-4fb5-a3d0-26d9af2358cd",
   "metadata": {},
   "source": [
    "#### 02. Spending Habits by Region"
   ]
  },
  {
   "cell_type": "code",
   "execution_count": 21,
   "id": "08a6e23d-5b8c-42d0-8388-cdf75abfb4a5",
   "metadata": {},
   "outputs": [
    {
     "data": {
      "text/plain": [
       "region\n",
       "midwest       7596065\n",
       "northeast     5721892\n",
       "south        10790096\n",
       "west          8291679\n",
       "Name: spending_flag, dtype: int64"
      ]
     },
     "execution_count": 21,
     "metadata": {},
     "output_type": "execute_result"
    }
   ],
   "source": [
    "# show the counts of spending_flag for each region\n",
    "spender_count_by_region = opc.groupby(['region'])['spending_flag'].agg(pd.Series.count)\n",
    "spender_count_by_region"
   ]
  },
  {
   "cell_type": "code",
   "execution_count": 22,
   "id": "4788f884-bace-416e-967d-3e90efb2a559",
   "metadata": {},
   "outputs": [],
   "source": [
    "# show the counts of each value with spending_flag separated by region\n",
    "spender_flag_count = opc.groupby(['region'])['spending_flag'].value_counts(dropna = False)"
   ]
  },
  {
   "cell_type": "code",
   "execution_count": 23,
   "id": "88972b41-092f-4477-8fc9-81d8b7582000",
   "metadata": {},
   "outputs": [
    {
     "data": {
      "text/plain": [
       "region     spending_flag\n",
       "midwest    Low spender       7566800\n",
       "           High spender        29265\n",
       "northeast  Low spender       5703253\n",
       "           High spender        18639\n",
       "south      Low spender      10749519\n",
       "           High spender        40577\n",
       "west       Low spender       8260441\n",
       "           High spender        31238\n",
       "Name: count, dtype: int64"
      ]
     },
     "execution_count": 23,
     "metadata": {},
     "output_type": "execute_result"
    }
   ],
   "source": [
    "spender_flag_count"
   ]
  },
  {
   "cell_type": "markdown",
   "id": "6b28bf7e-7beb-4244-bb44-e123a0f9bf3c",
   "metadata": {},
   "source": [
    "--------------------------------------------------------------\n",
    "##### **Insight:** *All regions top spender type is 'low spender'*\n",
    "\n",
    "--------------------------------------------------------------"
   ]
  },
  {
   "cell_type": "code",
   "execution_count": 25,
   "id": "838c9aff-77de-4615-badf-81645b299ecd",
   "metadata": {},
   "outputs": [],
   "source": [
    "# convert spender_flag counts into percentages\n",
    "spend_percent = spender_flag_count.groupby(level=0).apply(lambda x: 100 * x / float(x.sum())).round(2).reset_index(level=0, drop=True)\n",
    "# spend_percent"
   ]
  },
  {
   "cell_type": "code",
   "execution_count": 26,
   "id": "92ea6d96-4358-4287-8d67-e733e6fe2b2e",
   "metadata": {},
   "outputs": [
    {
     "data": {
      "text/html": [
       "<div>\n",
       "<style scoped>\n",
       "    .dataframe tbody tr th:only-of-type {\n",
       "        vertical-align: middle;\n",
       "    }\n",
       "\n",
       "    .dataframe tbody tr th {\n",
       "        vertical-align: top;\n",
       "    }\n",
       "\n",
       "    .dataframe thead th {\n",
       "        text-align: right;\n",
       "    }\n",
       "</style>\n",
       "<table border=\"1\" class=\"dataframe\">\n",
       "  <thead>\n",
       "    <tr style=\"text-align: right;\">\n",
       "      <th></th>\n",
       "      <th></th>\n",
       "      <th>percent</th>\n",
       "    </tr>\n",
       "    <tr>\n",
       "      <th>region</th>\n",
       "      <th>spending_flag</th>\n",
       "      <th></th>\n",
       "    </tr>\n",
       "  </thead>\n",
       "  <tbody>\n",
       "    <tr>\n",
       "      <th rowspan=\"2\" valign=\"top\">midwest</th>\n",
       "      <th>Low spender</th>\n",
       "      <td>99.61</td>\n",
       "    </tr>\n",
       "    <tr>\n",
       "      <th>High spender</th>\n",
       "      <td>0.39</td>\n",
       "    </tr>\n",
       "    <tr>\n",
       "      <th rowspan=\"2\" valign=\"top\">northeast</th>\n",
       "      <th>Low spender</th>\n",
       "      <td>99.67</td>\n",
       "    </tr>\n",
       "    <tr>\n",
       "      <th>High spender</th>\n",
       "      <td>0.33</td>\n",
       "    </tr>\n",
       "    <tr>\n",
       "      <th rowspan=\"2\" valign=\"top\">south</th>\n",
       "      <th>Low spender</th>\n",
       "      <td>99.62</td>\n",
       "    </tr>\n",
       "    <tr>\n",
       "      <th>High spender</th>\n",
       "      <td>0.38</td>\n",
       "    </tr>\n",
       "    <tr>\n",
       "      <th rowspan=\"2\" valign=\"top\">west</th>\n",
       "      <th>Low spender</th>\n",
       "      <td>99.62</td>\n",
       "    </tr>\n",
       "    <tr>\n",
       "      <th>High spender</th>\n",
       "      <td>0.38</td>\n",
       "    </tr>\n",
       "  </tbody>\n",
       "</table>\n",
       "</div>"
      ],
      "text/plain": [
       "                         percent\n",
       "region    spending_flag         \n",
       "midwest   Low spender      99.61\n",
       "          High spender      0.39\n",
       "northeast Low spender      99.67\n",
       "          High spender      0.33\n",
       "south     Low spender      99.62\n",
       "          High spender      0.38\n",
       "west      Low spender      99.62\n",
       "          High spender      0.38"
      ]
     },
     "execution_count": 26,
     "metadata": {},
     "output_type": "execute_result"
    }
   ],
   "source": [
    "# convert series to a dataframe\n",
    "spend_percent_df = spend_percent.to_frame()\n",
    "\n",
    "# assign column name 'percent'\n",
    "spend_percent_df.rename(columns = {'count': 'percent'}, inplace = True)\n",
    "spend_percent_df"
   ]
  },
  {
   "cell_type": "markdown",
   "id": "14611068-90f4-4068-9a99-508c3bb6bf87",
   "metadata": {},
   "source": [
    "--------------------------------------------------------------\n",
    "##### **Insight:** *All regions have about 99.6 % low spenders and about .4% high spenders.*\n",
    "\n",
    "--------------------------------------------------------------"
   ]
  },
  {
   "cell_type": "markdown",
   "id": "d34912fd-9a39-4cd1-a7f9-34c4b1fddf83",
   "metadata": {},
   "source": [
    "#### 03. Exlusion flag for low activity customers"
   ]
  },
  {
   "cell_type": "markdown",
   "id": "6de7636c-724d-4083-a1a5-304cc3755724",
   "metadata": {},
   "source": [
    "- **Low activity customers** = customers with < 5 orders"
   ]
  },
  {
   "cell_type": "code",
   "execution_count": 30,
   "id": "76c82b53-8a0e-47e7-89d9-ebed318a4906",
   "metadata": {},
   "outputs": [
    {
     "data": {
      "text/html": [
       "<div>\n",
       "<style scoped>\n",
       "    .dataframe tbody tr th:only-of-type {\n",
       "        vertical-align: middle;\n",
       "    }\n",
       "\n",
       "    .dataframe tbody tr th {\n",
       "        vertical-align: top;\n",
       "    }\n",
       "\n",
       "    .dataframe thead th {\n",
       "        text-align: right;\n",
       "    }\n",
       "</style>\n",
       "<table border=\"1\" class=\"dataframe\">\n",
       "  <thead>\n",
       "    <tr style=\"text-align: right;\">\n",
       "      <th></th>\n",
       "      <th>order_id</th>\n",
       "      <th>user_id</th>\n",
       "      <th>order_number</th>\n",
       "      <th>order_day_of_week</th>\n",
       "      <th>order_hour_of_day</th>\n",
       "      <th>days_since_prior_order</th>\n",
       "      <th>product_id</th>\n",
       "      <th>add_to_cart_order</th>\n",
       "      <th>reordered</th>\n",
       "      <th>product_name</th>\n",
       "      <th>aisle_id</th>\n",
       "      <th>department_id</th>\n",
       "      <th>prices</th>\n",
       "      <th>price_range</th>\n",
       "      <th>day_busyness</th>\n",
       "      <th>busiest_days</th>\n",
       "      <th>hour_of_day_busyness</th>\n",
       "      <th>max_order</th>\n",
       "      <th>loyalty_flag</th>\n",
       "      <th>avg_spent</th>\n",
       "      <th>spending_flag</th>\n",
       "      <th>med_days_since_prior_order</th>\n",
       "      <th>frequency_label</th>\n",
       "      <th>gender</th>\n",
       "      <th>state</th>\n",
       "      <th>age</th>\n",
       "      <th>date_joined</th>\n",
       "      <th>dependents</th>\n",
       "      <th>fam_status</th>\n",
       "      <th>income</th>\n",
       "      <th>region</th>\n",
       "    </tr>\n",
       "  </thead>\n",
       "  <tbody>\n",
       "    <tr>\n",
       "      <th>0</th>\n",
       "      <td>2539329</td>\n",
       "      <td>1</td>\n",
       "      <td>1</td>\n",
       "      <td>2</td>\n",
       "      <td>8</td>\n",
       "      <td>NaN</td>\n",
       "      <td>196</td>\n",
       "      <td>1</td>\n",
       "      <td>0</td>\n",
       "      <td>Soda</td>\n",
       "      <td>77</td>\n",
       "      <td>7</td>\n",
       "      <td>9.0</td>\n",
       "      <td>Mid-range product</td>\n",
       "      <td>Regularly busy</td>\n",
       "      <td>Regularly busy</td>\n",
       "      <td>Average orders</td>\n",
       "      <td>10</td>\n",
       "      <td>New customer</td>\n",
       "      <td>6.367797</td>\n",
       "      <td>Low spender</td>\n",
       "      <td>20.5</td>\n",
       "      <td>Non-frequent customer</td>\n",
       "      <td>Female</td>\n",
       "      <td>Alabama</td>\n",
       "      <td>31</td>\n",
       "      <td>2/17/2019</td>\n",
       "      <td>3</td>\n",
       "      <td>married</td>\n",
       "      <td>40423</td>\n",
       "      <td>south</td>\n",
       "    </tr>\n",
       "  </tbody>\n",
       "</table>\n",
       "</div>"
      ],
      "text/plain": [
       "   order_id  user_id  order_number  order_day_of_week  order_hour_of_day  \\\n",
       "0   2539329        1             1                  2                  8   \n",
       "\n",
       "   days_since_prior_order  product_id  add_to_cart_order  reordered  \\\n",
       "0                     NaN         196                  1          0   \n",
       "\n",
       "  product_name  aisle_id  department_id  prices        price_range  \\\n",
       "0         Soda        77              7     9.0  Mid-range product   \n",
       "\n",
       "     day_busyness    busiest_days hour_of_day_busyness  max_order  \\\n",
       "0  Regularly busy  Regularly busy       Average orders         10   \n",
       "\n",
       "   loyalty_flag  avg_spent spending_flag  med_days_since_prior_order  \\\n",
       "0  New customer   6.367797   Low spender                        20.5   \n",
       "\n",
       "         frequency_label  gender    state  age date_joined  dependents  \\\n",
       "0  Non-frequent customer  Female  Alabama   31   2/17/2019           3   \n",
       "\n",
       "  fam_status  income region  \n",
       "0    married   40423  south  "
      ]
     },
     "execution_count": 30,
     "metadata": {},
     "output_type": "execute_result"
    }
   ],
   "source": [
    "pd.options.display.max_columns = 35\n",
    "opc.head(1)"
   ]
  },
  {
   "cell_type": "code",
   "execution_count": 31,
   "id": "d69b6265-08a8-4cf8-b85d-9086518afa4d",
   "metadata": {},
   "outputs": [
    {
     "data": {
      "text/plain": [
       "max_order\n",
       "4    753414\n",
       "3    686620\n",
       "2         6\n",
       "1         5\n",
       "Name: count, dtype: int64"
      ]
     },
     "execution_count": 31,
     "metadata": {},
     "output_type": "execute_result"
    }
   ],
   "source": [
    "# create a new df that stores all customers with a max order number less than 5\n",
    "low_activity_cust = opc[opc['max_order'] < 5]\n",
    "# show the count of customers per order number less than 5\n",
    "low_activity_cust['max_order'].value_counts(dropna = False)"
   ]
  },
  {
   "cell_type": "code",
   "execution_count": 32,
   "id": "a743f438-d34c-420e-b7a2-420edbae4559",
   "metadata": {},
   "outputs": [
    {
     "data": {
      "text/plain": [
       "(32399732, 31)"
      ]
     },
     "execution_count": 32,
     "metadata": {},
     "output_type": "execute_result"
    }
   ],
   "source": [
    "opc.shape"
   ]
  },
  {
   "cell_type": "code",
   "execution_count": 33,
   "id": "eccb9049-88c7-4995-a334-c30f5c99ed3a",
   "metadata": {},
   "outputs": [
    {
     "data": {
      "text/plain": [
       "(1440045, 31)"
      ]
     },
     "execution_count": 33,
     "metadata": {},
     "output_type": "execute_result"
    }
   ],
   "source": [
    "low_activity_cust.shape"
   ]
  },
  {
   "cell_type": "code",
   "execution_count": 34,
   "id": "bf40bdea-41a8-4a08-827a-5c32d5e8d2b4",
   "metadata": {},
   "outputs": [
    {
     "data": {
      "text/plain": [
       "(30959687, 31)"
      ]
     },
     "execution_count": 34,
     "metadata": {},
     "output_type": "execute_result"
    }
   ],
   "source": [
    "# df excluding low activity should be 30959687 rows\n",
    "\n",
    "# create a df that excludes these low activity customers\n",
    "opc_minus_low_activity_cust = opc[opc['max_order'] >= 5]\n",
    "opc_minus_low_activity_cust.shape"
   ]
  },
  {
   "cell_type": "markdown",
   "id": "89026181-e799-4ef6-86f9-7e0b300072ca",
   "metadata": {},
   "source": [
    "#### 04. Customer Profiles"
   ]
  },
  {
   "cell_type": "markdown",
   "id": "890bb71a-23ec-4da0-8b54-3b70d4b1dbbc",
   "metadata": {},
   "source": [
    "**Age**"
   ]
  },
  {
   "cell_type": "code",
   "execution_count": 37,
   "id": "fdd99307-f496-4e82-93c3-dba654491db0",
   "metadata": {},
   "outputs": [
    {
     "data": {
      "text/plain": [
       "18"
      ]
     },
     "execution_count": 37,
     "metadata": {},
     "output_type": "execute_result"
    }
   ],
   "source": [
    "# for simplicity, rename df\n",
    "df = opc_minus_low_activity_cust\n",
    "\n",
    "# find the age range of df using min and max\n",
    "df['age'].min()"
   ]
  },
  {
   "cell_type": "code",
   "execution_count": 38,
   "id": "26bb8724-2b65-4915-a7e2-714e8418165d",
   "metadata": {},
   "outputs": [
    {
     "data": {
      "text/plain": [
       "81"
      ]
     },
     "execution_count": 38,
     "metadata": {},
     "output_type": "execute_result"
    }
   ],
   "source": [
    "df['age'].max()"
   ]
  },
  {
   "cell_type": "markdown",
   "id": "a6f72e9d-d03b-4d15-88d7-648d74aa4a76",
   "metadata": {},
   "source": [
    "Age categories\n",
    "- **young adult**: age < 25\n",
    "- **adult**: age >= 25 and < 40\n",
    "- **middle-aged**: age >= 40 and < 60\n",
    "- **senior**: age >= 60"
   ]
  },
  {
   "cell_type": "code",
   "execution_count": 40,
   "id": "ea638093-47de-40a0-93dc-5af3a4a82498",
   "metadata": {},
   "outputs": [],
   "source": [
    "# define the function that labels ros based on the age group conditions\n",
    "def age_label(row):\n",
    "    if row['age'] < 25:\n",
    "        return 'young adult'\n",
    "    elif (row['age'] >= 25) and (row['age'] < 40):\n",
    "        return 'adult'\n",
    "    elif (row['age'] >= 40) and (row['age'] < 60):\n",
    "        return 'middle-aged'\n",
    "    elif row['age'] >= 60:\n",
    "        return 'senior'\n",
    "    else: return 'error'"
   ]
  },
  {
   "cell_type": "code",
   "execution_count": 41,
   "id": "f41619c7-b1dc-4662-bfca-a116e0907861",
   "metadata": {},
   "outputs": [
    {
     "name": "stderr",
     "output_type": "stream",
     "text": [
      "C:\\Users\\steve\\AppData\\Local\\Temp\\ipykernel_10872\\1092058153.py:2: SettingWithCopyWarning: \n",
      "A value is trying to be set on a copy of a slice from a DataFrame.\n",
      "Try using .loc[row_indexer,col_indexer] = value instead\n",
      "\n",
      "See the caveats in the documentation: https://pandas.pydata.org/pandas-docs/stable/user_guide/indexing.html#returning-a-view-versus-a-copy\n",
      "  df['age_group'] = df.apply(age_label, axis = 1)\n"
     ]
    }
   ],
   "source": [
    "# create new row for age group using the age_label function\n",
    "df['age_group'] = df.apply(age_label, axis = 1)"
   ]
  },
  {
   "cell_type": "code",
   "execution_count": 42,
   "id": "8a8e1615-03ee-40bd-acd9-7b4fb30df586",
   "metadata": {},
   "outputs": [
    {
     "data": {
      "text/plain": [
       "age_group\n",
       "senior         10572857\n",
       "middle-aged     9723390\n",
       "adult           7248839\n",
       "young adult     3414601\n",
       "Name: count, dtype: int64"
      ]
     },
     "execution_count": 42,
     "metadata": {},
     "output_type": "execute_result"
    }
   ],
   "source": [
    "# see the counts for each age range\n",
    "df['age_group'].value_counts(dropna = False)"
   ]
  },
  {
   "cell_type": "markdown",
   "id": "c9a0e5b7-7cdb-483f-8f1e-dc908a818be5",
   "metadata": {},
   "source": [
    "Income categories"
   ]
  },
  {
   "cell_type": "code",
   "execution_count": 44,
   "id": "ffb33c06-4674-4066-a8ab-ebe19419bf76",
   "metadata": {},
   "outputs": [
    {
     "data": {
      "text/plain": [
       "25903"
      ]
     },
     "execution_count": 44,
     "metadata": {},
     "output_type": "execute_result"
    }
   ],
   "source": [
    "df['income'].min()"
   ]
  },
  {
   "cell_type": "code",
   "execution_count": 45,
   "id": "d1bab35b-fa66-4fd8-b21d-3ed7098cd2d6",
   "metadata": {},
   "outputs": [
    {
     "data": {
      "text/plain": [
       "593901"
      ]
     },
     "execution_count": 45,
     "metadata": {},
     "output_type": "execute_result"
    }
   ],
   "source": [
    "df['income'].max()"
   ]
  },
  {
   "cell_type": "markdown",
   "id": "cc4e9b32-34f2-4eaa-98b4-cd72fa59351d",
   "metadata": {},
   "source": [
    "Income categories\n",
    "- **lower class**: income < 53,740\n",
    "- **middle class**: income >= 53, 740 and <= 161,220 (cnbc definition of middle class in 2023)\n",
    "- **upper class**: income > 161,220"
   ]
  },
  {
   "cell_type": "code",
   "execution_count": 47,
   "id": "cd226644-ab95-494d-8595-2a546d62265b",
   "metadata": {},
   "outputs": [],
   "source": [
    "# define the function that labels rows based on the income group conditions\n",
    "def income_label(row):\n",
    "    if row['income'] < 53740:\n",
    "        return 'lower class'\n",
    "    elif (row['income'] >= 53740) and (row['income'] <= 161220):\n",
    "        return 'middle class'\n",
    "    elif row['income'] > 161220:\n",
    "        return 'upper class'\n",
    "    else: return 'error'"
   ]
  },
  {
   "cell_type": "code",
   "execution_count": 48,
   "id": "f313190c-b8d8-41ae-8bbe-59d7d6571b12",
   "metadata": {},
   "outputs": [
    {
     "name": "stderr",
     "output_type": "stream",
     "text": [
      "C:\\Users\\steve\\AppData\\Local\\Temp\\ipykernel_10872\\3804203610.py:2: SettingWithCopyWarning: \n",
      "A value is trying to be set on a copy of a slice from a DataFrame.\n",
      "Try using .loc[row_indexer,col_indexer] = value instead\n",
      "\n",
      "See the caveats in the documentation: https://pandas.pydata.org/pandas-docs/stable/user_guide/indexing.html#returning-a-view-versus-a-copy\n",
      "  df['income_group'] = df.apply(income_label, axis = 1)\n"
     ]
    }
   ],
   "source": [
    "# create new row for income group using the income_label function\n",
    "df['income_group'] = df.apply(income_label, axis = 1)"
   ]
  },
  {
   "cell_type": "code",
   "execution_count": 49,
   "id": "f0f2a81e-d467-4324-9d29-3533a8a23166",
   "metadata": {},
   "outputs": [
    {
     "data": {
      "text/plain": [
       "income_group\n",
       "middle class    24933489\n",
       "lower class      4120189\n",
       "upper class      1906009\n",
       "Name: count, dtype: int64"
      ]
     },
     "execution_count": 49,
     "metadata": {},
     "output_type": "execute_result"
    }
   ],
   "source": [
    "# see the counts for each age range\n",
    "df['income_group'].value_counts(dropna = False)"
   ]
  },
  {
   "cell_type": "markdown",
   "id": "0ddc791f-4c56-436c-9829-7ae3403b3041",
   "metadata": {},
   "source": [
    "Number of Dependents"
   ]
  },
  {
   "cell_type": "markdown",
   "id": "5a8abdc2-3b95-4785-90b3-5e95ba7e2045",
   "metadata": {},
   "source": [
    "Dependents flag:\n",
    "- **No dependents**: dependents = 0 \n",
    "- **Has dependents**: dependents > 0"
   ]
  },
  {
   "cell_type": "code",
   "execution_count": 52,
   "id": "826b52f1-3caa-4bd4-af96-a957db200ad3",
   "metadata": {},
   "outputs": [],
   "source": [
    "# define the function that labels rows based on the income group conditions\n",
    "def dependents_label(row):\n",
    "    if row['dependents'] == 0:\n",
    "        return 'No dependents'\n",
    "    elif row['dependents'] > 0:\n",
    "        return 'Has dependents'\n",
    "    else: return 'error'"
   ]
  },
  {
   "cell_type": "code",
   "execution_count": 53,
   "id": "ead90041-d53e-4165-a1ab-db0feab36fe2",
   "metadata": {},
   "outputs": [
    {
     "name": "stderr",
     "output_type": "stream",
     "text": [
      "C:\\Users\\steve\\AppData\\Local\\Temp\\ipykernel_10872\\2848016000.py:2: SettingWithCopyWarning: \n",
      "A value is trying to be set on a copy of a slice from a DataFrame.\n",
      "Try using .loc[row_indexer,col_indexer] = value instead\n",
      "\n",
      "See the caveats in the documentation: https://pandas.pydata.org/pandas-docs/stable/user_guide/indexing.html#returning-a-view-versus-a-copy\n",
      "  df['dependents_flag'] = df.apply(dependents_label, axis = 1)\n"
     ]
    }
   ],
   "source": [
    "# create new row for age group using the age_label function\n",
    "df['dependents_flag'] = df.apply(dependents_label, axis = 1)"
   ]
  },
  {
   "cell_type": "code",
   "execution_count": 54,
   "id": "1f982cde-6b71-4482-bdcf-f86bdd44890b",
   "metadata": {},
   "outputs": [
    {
     "data": {
      "text/plain": [
       "dependents_flag\n",
       "Has dependents    23221179\n",
       "No dependents      7738508\n",
       "Name: count, dtype: int64"
      ]
     },
     "execution_count": 54,
     "metadata": {},
     "output_type": "execute_result"
    }
   ],
   "source": [
    "# see the counts for each age range\n",
    "df['dependents_flag'].value_counts(dropna = False)"
   ]
  },
  {
   "cell_type": "markdown",
   "id": "ee6f6635-37fb-4f33-b2e0-09eaa4680ba4",
   "metadata": {},
   "source": [
    "## Export Data"
   ]
  },
  {
   "cell_type": "code",
   "execution_count": 56,
   "id": "214f2d56-08fc-451c-9c9c-3e1ca44c4419",
   "metadata": {},
   "outputs": [],
   "source": [
    "df.to_pickle(os.path.join(path, '02 Data', 'Prepared Data', 'orders_products_all.pkl'))"
   ]
  },
  {
   "cell_type": "code",
   "execution_count": null,
   "id": "bc4230f2-212f-44f3-95f5-7890355d4263",
   "metadata": {},
   "outputs": [],
   "source": []
  }
 ],
 "metadata": {
  "kernelspec": {
   "display_name": "Python 3 (ipykernel)",
   "language": "python",
   "name": "python3"
  },
  "language_info": {
   "codemirror_mode": {
    "name": "ipython",
    "version": 3
   },
   "file_extension": ".py",
   "mimetype": "text/x-python",
   "name": "python",
   "nbconvert_exporter": "python",
   "pygments_lexer": "ipython3",
   "version": "3.12.7"
  }
 },
 "nbformat": 4,
 "nbformat_minor": 5
}
