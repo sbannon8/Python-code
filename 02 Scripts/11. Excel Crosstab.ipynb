{
 "cells": [
  {
   "cell_type": "markdown",
   "id": "1eb08498-2cb8-4777-914f-9e2dcbbe0acd",
   "metadata": {},
   "source": [
    "# Excel Reporting"
   ]
  },
  {
   "cell_type": "markdown",
   "id": "96e906aa-4f3a-4efe-9257-c19abb95dff3",
   "metadata": {},
   "source": [
    "## Importing Libraries"
   ]
  },
  {
   "cell_type": "code",
   "execution_count": 1,
   "id": "2a503209-7aa4-4df6-8af9-0b2fad8c901c",
   "metadata": {},
   "outputs": [],
   "source": [
    "import pandas as pd\n",
    "import numpy as np\n",
    "import os\n",
    "import matplotlib.pyplot as plt\n",
    "import seaborn as sns\n",
    "import scipy"
   ]
  },
  {
   "cell_type": "markdown",
   "id": "e39481ec-7dc9-4259-8f84-ea733b59cf75",
   "metadata": {},
   "source": [
    "## Importing Data"
   ]
  },
  {
   "cell_type": "code",
   "execution_count": 3,
   "id": "b54f7efd-e90b-44d5-986c-f68f73e2a38e",
   "metadata": {},
   "outputs": [],
   "source": [
    "# main folder\n",
    "path = r'C:\\Users\\steve\\Documents\\11.24 Instacart Basket Analysis'\n",
    "\n",
    "# ords_prods_wflags\n",
    "ords_prods_cust = pd.read_pickle(os.path.join(path, '02 Data', 'Prepared Data', 'ords_prods_cust.pkl'))"
   ]
  },
  {
   "cell_type": "markdown",
   "id": "3a92400e-b850-4038-bd4f-de24ce2d1554",
   "metadata": {},
   "source": [
    "## Analysis"
   ]
  },
  {
   "cell_type": "markdown",
   "id": "8f63315f-907b-4e53-86fa-3c2c1afadf5d",
   "metadata": {},
   "source": [
    "**Crosstabs** : *Python's version of Excel's pivot tables*"
   ]
  },
  {
   "cell_type": "code",
   "execution_count": 6,
   "id": "5cc7d697-fdc1-433a-a1d5-9c2608fe42dd",
   "metadata": {},
   "outputs": [],
   "source": [
    "# create pivot table of days_since_prior_order and order number\n",
    "# to check of all null values in prior_order are only null for first time customers\n",
    "# who would have an order number of 1\n",
    "# If there are null values for other order #s, this would indicate a true missing value.\n",
    "\n",
    "crosstab = pd.crosstab(ords_prods_cust['days_since_prior_order'], ords_prods_cust['order_number'], dropna = False)\n",
    "\n",
    "# will be cumbersome to see full pivot table in Pyhon, so best to view in Excel\n",
    "# the following copies the able to your clipboard\n",
    "\n",
    "crosstab.to_clipboard()"
   ]
  },
  {
   "cell_type": "code",
   "execution_count": null,
   "id": "dc1667e3-8bbb-48a0-9524-8229eebdee43",
   "metadata": {},
   "outputs": [],
   "source": []
  }
 ],
 "metadata": {
  "kernelspec": {
   "display_name": "Python 3 (ipykernel)",
   "language": "python",
   "name": "python3"
  },
  "language_info": {
   "codemirror_mode": {
    "name": "ipython",
    "version": 3
   },
   "file_extension": ".py",
   "mimetype": "text/x-python",
   "name": "python",
   "nbconvert_exporter": "python",
   "pygments_lexer": "ipython3",
   "version": "3.12.7"
  }
 },
 "nbformat": 4,
 "nbformat_minor": 5
}
