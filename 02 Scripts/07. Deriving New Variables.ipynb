{
 "cells": [
  {
   "cell_type": "markdown",
   "id": "f62a24a9-68ac-49cf-a53e-76349edd1ea6",
   "metadata": {},
   "source": [
    "# DERIVING NEW VARIABLES"
   ]
  },
  {
   "cell_type": "markdown",
   "id": "41ca72d0-2545-4c69-89a0-01708850fede",
   "metadata": {},
   "source": [
    "## Importing Libraries"
   ]
  },
  {
   "cell_type": "code",
   "execution_count": 3,
   "id": "300589bb-3c6c-42fa-9d35-4654de3d1393",
   "metadata": {},
   "outputs": [],
   "source": [
    "import pandas as pd\n",
    "import numpy as np\n",
    "import os\n",
    "import seaborn as sns\n",
    "import matplotlib.pyplot as plt"
   ]
  },
  {
   "cell_type": "markdown",
   "id": "80679ec1-1907-4bb9-b0a7-db99e0f8bd65",
   "metadata": {},
   "source": [
    "## Importing Data"
   ]
  },
  {
   "cell_type": "code",
   "execution_count": 5,
   "id": "b2ab1d97-4b90-4e94-8ea0-a5840806405a",
   "metadata": {},
   "outputs": [],
   "source": [
    "# main folder\n",
    "path = r'C:\\Users\\steve\\Documents\\11.24 Instacart Basket Analysis'\n",
    "\n",
    "# ords_prods_merge\n",
    "df = pd.read_pickle(os.path.join(path, '02 Data', 'Prepared Data', 'ords_prods_merge.pkl'))"
   ]
  },
  {
   "cell_type": "markdown",
   "id": "fcaed269-14da-46c7-942a-b0d017ee03f6",
   "metadata": {},
   "source": [
    "## Define Variables"
   ]
  },
  {
   "cell_type": "markdown",
   "id": "3ae21690-a409-498b-a41e-2d1a9ac83a39",
   "metadata": {},
   "source": [
    "Style Guide"
   ]
  },
  {
   "cell_type": "code",
   "execution_count": 54,
   "id": "6f25eeed-273d-4cd1-8573-5752d3ffab6c",
   "metadata": {},
   "outputs": [],
   "source": [
    "# chart style\n",
    "sns.set_style('darkgrid')\n",
    "\n",
    "# colors\n",
    "green = '#3CBC31'\n",
    "light_green = '#7CC575'\n",
    "red = '#D7BBB4'\n",
    "gray = '#C1C7C9'"
   ]
  },
  {
   "cell_type": "markdown",
   "id": "da0eaebe-555f-419f-9073-e0180f47bdc9",
   "metadata": {},
   "source": [
    "## Analysis"
   ]
  },
  {
   "cell_type": "markdown",
   "id": "0e8db29a-1a8c-48ea-afb4-abbb620caa90",
   "metadata": {},
   "source": [
    "01. Flagging products by price"
   ]
  },
  {
   "cell_type": "markdown",
   "id": "cd7b5fb0-a148-46b5-bdc7-d1b9b25cf59a",
   "metadata": {},
   "source": [
    "- low range: < 5\n",
    "- mid-range: 5 - 15\n",
    "- high-range: > 15"
   ]
  },
  {
   "cell_type": "markdown",
   "id": "07f152b7-d129-413a-8d30-10c570f96aa1",
   "metadata": {},
   "source": [
    "**User-defined Function Method**"
   ]
  },
  {
   "cell_type": "code",
   "execution_count": 16,
   "id": "8a008068-049f-4255-9001-682c0c796c40",
   "metadata": {},
   "outputs": [],
   "source": [
    "# defines the function that labels rows based on their price\n",
    "def price_label(row):\n",
    "    if row['prices'] <= 5:\n",
    "        return 'Low-range product'\n",
    "    elif (row['prices'] > 5) and (row['prices'] <= 15):\n",
    "        return 'Mid-range product'\n",
    "    elif row ['prices'] > 15:\n",
    "        return 'High-range product'\n",
    "    else: return 'Not enough data'"
   ]
  },
  {
   "cell_type": "code",
   "execution_count": 18,
   "id": "8c91454a-b58a-4406-b5b1-22e68dd30d13",
   "metadata": {},
   "outputs": [],
   "source": [
    "# applies & runs the func to the df by creating a row called price_range to store the label\n",
    "df['price_range'] = df.apply(price_label, axis = 1)"
   ]
  },
  {
   "cell_type": "code",
   "execution_count": 19,
   "id": "35f8ad52-82c8-4ddc-866b-9e6370089f14",
   "metadata": {},
   "outputs": [
    {
     "data": {
      "text/plain": [
       "price_range\n",
       "Mid-range product     21860860\n",
       "Low-range product     10126321\n",
       "High-range product      412551\n",
       "Name: count, dtype: int64"
      ]
     },
     "execution_count": 19,
     "metadata": {},
     "output_type": "execute_result"
    }
   ],
   "source": [
    "# see the counts for each range\n",
    "df['price_range'].value_counts(dropna = False)"
   ]
  },
  {
   "cell_type": "code",
   "execution_count": 23,
   "id": "d8705d6f-8967-4534-9089-03967c923524",
   "metadata": {},
   "outputs": [
    {
     "data": {
      "text/plain": [
       "25.0"
      ]
     },
     "execution_count": 23,
     "metadata": {},
     "output_type": "execute_result"
    }
   ],
   "source": [
    "# check what the top price is\n",
    "df['prices'].max()"
   ]
  },
  {
   "cell_type": "markdown",
   "id": "de57550d-34d6-45f1-b937-3f6210488cc3",
   "metadata": {},
   "source": [
    "**Loc() Pre-defined Function Method**"
   ]
  },
  {
   "cell_type": "code",
   "execution_count": 48,
   "id": "2186e716-fc9d-4f0e-8b2e-f19bb0790832",
   "metadata": {},
   "outputs": [],
   "source": [
    "df.loc[df['prices'] > 15, 'price_range_loc'] = 'High-range product'"
   ]
  },
  {
   "cell_type": "code",
   "execution_count": 50,
   "id": "be71562d-b416-4f29-8f3b-5d33903a77df",
   "metadata": {},
   "outputs": [],
   "source": [
    "df.loc[(df['prices'] <= 15) & (df['prices'] > 5), 'price_range_loc'] = 'Mid-range product'"
   ]
  },
  {
   "cell_type": "code",
   "execution_count": 52,
   "id": "f0531f48-8e25-4faa-8186-d766d9c422bb",
   "metadata": {},
   "outputs": [],
   "source": [
    "df.loc[df['prices'] <= 5, 'price_range_loc'] = 'Low-range product'"
   ]
  },
  {
   "cell_type": "code",
   "execution_count": 54,
   "id": "c9a7f3af-6185-4b1f-9253-9e81ff5fe4ca",
   "metadata": {},
   "outputs": [
    {
     "data": {
      "text/plain": [
       "price_range_loc\n",
       "Mid-range product     21860860\n",
       "Low-range product     10126321\n",
       "High-range product      412551\n",
       "Name: count, dtype: int64"
      ]
     },
     "execution_count": 54,
     "metadata": {},
     "output_type": "execute_result"
    }
   ],
   "source": [
    "# counts per category\n",
    "df['price_range_loc'].value_counts(dropna = False)"
   ]
  },
  {
   "cell_type": "code",
   "execution_count": 65,
   "id": "20d5b210-3a8a-40c8-a024-d203d2d168eb",
   "metadata": {},
   "outputs": [
    {
     "data": {
      "text/html": [
       "<div>\n",
       "<style scoped>\n",
       "    .dataframe tbody tr th:only-of-type {\n",
       "        vertical-align: middle;\n",
       "    }\n",
       "\n",
       "    .dataframe tbody tr th {\n",
       "        vertical-align: top;\n",
       "    }\n",
       "\n",
       "    .dataframe thead th {\n",
       "        text-align: right;\n",
       "    }\n",
       "</style>\n",
       "<table border=\"1\" class=\"dataframe\">\n",
       "  <thead>\n",
       "    <tr style=\"text-align: right;\">\n",
       "      <th></th>\n",
       "      <th>order_id</th>\n",
       "      <th>user_id</th>\n",
       "      <th>order_number</th>\n",
       "      <th>orders_day_of_week</th>\n",
       "      <th>order_hour_of_day</th>\n",
       "      <th>days_since_prior_order</th>\n",
       "      <th>product_id</th>\n",
       "      <th>add_to_cart_order</th>\n",
       "      <th>reordered</th>\n",
       "      <th>product_name</th>\n",
       "      <th>aisle_id</th>\n",
       "      <th>department_id</th>\n",
       "      <th>prices</th>\n",
       "      <th>_merge</th>\n",
       "      <th>price_range</th>\n",
       "      <th>price_range_loc</th>\n",
       "    </tr>\n",
       "  </thead>\n",
       "  <tbody>\n",
       "    <tr>\n",
       "      <th>398</th>\n",
       "      <td>2086598</td>\n",
       "      <td>6</td>\n",
       "      <td>1</td>\n",
       "      <td>5</td>\n",
       "      <td>18</td>\n",
       "      <td>NaN</td>\n",
       "      <td>38293</td>\n",
       "      <td>2</td>\n",
       "      <td>0</td>\n",
       "      <td>Ground Turkey Breast</td>\n",
       "      <td>35</td>\n",
       "      <td>12</td>\n",
       "      <td>19.6</td>\n",
       "      <td>both</td>\n",
       "      <td>High-range</td>\n",
       "      <td>High-range product</td>\n",
       "    </tr>\n",
       "    <tr>\n",
       "      <th>401</th>\n",
       "      <td>298250</td>\n",
       "      <td>6</td>\n",
       "      <td>2</td>\n",
       "      <td>4</td>\n",
       "      <td>16</td>\n",
       "      <td>6.0</td>\n",
       "      <td>38293</td>\n",
       "      <td>1</td>\n",
       "      <td>1</td>\n",
       "      <td>Ground Turkey Breast</td>\n",
       "      <td>35</td>\n",
       "      <td>12</td>\n",
       "      <td>19.6</td>\n",
       "      <td>both</td>\n",
       "      <td>High-range</td>\n",
       "      <td>High-range product</td>\n",
       "    </tr>\n",
       "    <tr>\n",
       "      <th>436</th>\n",
       "      <td>2402008</td>\n",
       "      <td>7</td>\n",
       "      <td>2</td>\n",
       "      <td>1</td>\n",
       "      <td>19</td>\n",
       "      <td>30.0</td>\n",
       "      <td>13198</td>\n",
       "      <td>14</td>\n",
       "      <td>0</td>\n",
       "      <td>85% Lean Ground Beef</td>\n",
       "      <td>122</td>\n",
       "      <td>12</td>\n",
       "      <td>23.2</td>\n",
       "      <td>both</td>\n",
       "      <td>High-range</td>\n",
       "      <td>High-range product</td>\n",
       "    </tr>\n",
       "    <tr>\n",
       "      <th>465</th>\n",
       "      <td>121053</td>\n",
       "      <td>7</td>\n",
       "      <td>3</td>\n",
       "      <td>0</td>\n",
       "      <td>18</td>\n",
       "      <td>30.0</td>\n",
       "      <td>13198</td>\n",
       "      <td>22</td>\n",
       "      <td>1</td>\n",
       "      <td>85% Lean Ground Beef</td>\n",
       "      <td>122</td>\n",
       "      <td>12</td>\n",
       "      <td>23.2</td>\n",
       "      <td>both</td>\n",
       "      <td>High-range</td>\n",
       "      <td>High-range product</td>\n",
       "    </tr>\n",
       "    <tr>\n",
       "      <th>480</th>\n",
       "      <td>1695742</td>\n",
       "      <td>7</td>\n",
       "      <td>4</td>\n",
       "      <td>2</td>\n",
       "      <td>10</td>\n",
       "      <td>9.0</td>\n",
       "      <td>13198</td>\n",
       "      <td>13</td>\n",
       "      <td>1</td>\n",
       "      <td>85% Lean Ground Beef</td>\n",
       "      <td>122</td>\n",
       "      <td>12</td>\n",
       "      <td>23.2</td>\n",
       "      <td>both</td>\n",
       "      <td>High-range</td>\n",
       "      <td>High-range product</td>\n",
       "    </tr>\n",
       "    <tr>\n",
       "      <th>...</th>\n",
       "      <td>...</td>\n",
       "      <td>...</td>\n",
       "      <td>...</td>\n",
       "      <td>...</td>\n",
       "      <td>...</td>\n",
       "      <td>...</td>\n",
       "      <td>...</td>\n",
       "      <td>...</td>\n",
       "      <td>...</td>\n",
       "      <td>...</td>\n",
       "      <td>...</td>\n",
       "      <td>...</td>\n",
       "      <td>...</td>\n",
       "      <td>...</td>\n",
       "      <td>...</td>\n",
       "      <td>...</td>\n",
       "    </tr>\n",
       "    <tr>\n",
       "      <th>32399461</th>\n",
       "      <td>3356245</td>\n",
       "      <td>206208</td>\n",
       "      <td>40</td>\n",
       "      <td>5</td>\n",
       "      <td>9</td>\n",
       "      <td>10.0</td>\n",
       "      <td>13877</td>\n",
       "      <td>11</td>\n",
       "      <td>1</td>\n",
       "      <td>Smoked Salmon</td>\n",
       "      <td>15</td>\n",
       "      <td>12</td>\n",
       "      <td>21.6</td>\n",
       "      <td>both</td>\n",
       "      <td>High-range</td>\n",
       "      <td>High-range product</td>\n",
       "    </tr>\n",
       "    <tr>\n",
       "      <th>32399474</th>\n",
       "      <td>3356245</td>\n",
       "      <td>206208</td>\n",
       "      <td>40</td>\n",
       "      <td>5</td>\n",
       "      <td>9</td>\n",
       "      <td>10.0</td>\n",
       "      <td>9339</td>\n",
       "      <td>24</td>\n",
       "      <td>1</td>\n",
       "      <td>Organic Chicken &amp; Apple Sausage</td>\n",
       "      <td>106</td>\n",
       "      <td>12</td>\n",
       "      <td>21.1</td>\n",
       "      <td>both</td>\n",
       "      <td>High-range</td>\n",
       "      <td>High-range product</td>\n",
       "    </tr>\n",
       "    <tr>\n",
       "      <th>32399545</th>\n",
       "      <td>3292671</td>\n",
       "      <td>206208</td>\n",
       "      <td>45</td>\n",
       "      <td>2</td>\n",
       "      <td>11</td>\n",
       "      <td>3.0</td>\n",
       "      <td>7952</td>\n",
       "      <td>16</td>\n",
       "      <td>1</td>\n",
       "      <td>Chicken &amp; Apple Breakfast Sausage</td>\n",
       "      <td>106</td>\n",
       "      <td>12</td>\n",
       "      <td>19.3</td>\n",
       "      <td>both</td>\n",
       "      <td>High-range</td>\n",
       "      <td>High-range product</td>\n",
       "    </tr>\n",
       "    <tr>\n",
       "      <th>32399585</th>\n",
       "      <td>1285346</td>\n",
       "      <td>206208</td>\n",
       "      <td>48</td>\n",
       "      <td>1</td>\n",
       "      <td>11</td>\n",
       "      <td>5.0</td>\n",
       "      <td>34282</td>\n",
       "      <td>8</td>\n",
       "      <td>0</td>\n",
       "      <td>Original Sandwich Bread</td>\n",
       "      <td>58</td>\n",
       "      <td>1</td>\n",
       "      <td>15.0</td>\n",
       "      <td>both</td>\n",
       "      <td>Mid-range product</td>\n",
       "      <td>Mid-range product</td>\n",
       "    </tr>\n",
       "    <tr>\n",
       "      <th>32399648</th>\n",
       "      <td>688306</td>\n",
       "      <td>206209</td>\n",
       "      <td>4</td>\n",
       "      <td>1</td>\n",
       "      <td>10</td>\n",
       "      <td>30.0</td>\n",
       "      <td>22713</td>\n",
       "      <td>9</td>\n",
       "      <td>0</td>\n",
       "      <td>Ground Chicken Breast</td>\n",
       "      <td>35</td>\n",
       "      <td>12</td>\n",
       "      <td>18.8</td>\n",
       "      <td>both</td>\n",
       "      <td>High-range</td>\n",
       "      <td>High-range product</td>\n",
       "    </tr>\n",
       "  </tbody>\n",
       "</table>\n",
       "<p>666245 rows × 16 columns</p>\n",
       "</div>"
      ],
      "text/plain": [
       "          order_id  user_id  order_number  orders_day_of_week  \\\n",
       "398        2086598        6             1                   5   \n",
       "401         298250        6             2                   4   \n",
       "436        2402008        7             2                   1   \n",
       "465         121053        7             3                   0   \n",
       "480        1695742        7             4                   2   \n",
       "...            ...      ...           ...                 ...   \n",
       "32399461   3356245   206208            40                   5   \n",
       "32399474   3356245   206208            40                   5   \n",
       "32399545   3292671   206208            45                   2   \n",
       "32399585   1285346   206208            48                   1   \n",
       "32399648    688306   206209             4                   1   \n",
       "\n",
       "          order_hour_of_day  days_since_prior_order  product_id  \\\n",
       "398                      18                     NaN       38293   \n",
       "401                      16                     6.0       38293   \n",
       "436                      19                    30.0       13198   \n",
       "465                      18                    30.0       13198   \n",
       "480                      10                     9.0       13198   \n",
       "...                     ...                     ...         ...   \n",
       "32399461                  9                    10.0       13877   \n",
       "32399474                  9                    10.0        9339   \n",
       "32399545                 11                     3.0        7952   \n",
       "32399585                 11                     5.0       34282   \n",
       "32399648                 10                    30.0       22713   \n",
       "\n",
       "          add_to_cart_order  reordered                       product_name  \\\n",
       "398                       2          0               Ground Turkey Breast   \n",
       "401                       1          1               Ground Turkey Breast   \n",
       "436                      14          0               85% Lean Ground Beef   \n",
       "465                      22          1               85% Lean Ground Beef   \n",
       "480                      13          1               85% Lean Ground Beef   \n",
       "...                     ...        ...                                ...   \n",
       "32399461                 11          1                      Smoked Salmon   \n",
       "32399474                 24          1    Organic Chicken & Apple Sausage   \n",
       "32399545                 16          1  Chicken & Apple Breakfast Sausage   \n",
       "32399585                  8          0            Original Sandwich Bread   \n",
       "32399648                  9          0              Ground Chicken Breast   \n",
       "\n",
       "          aisle_id  department_id  prices _merge        price_range  \\\n",
       "398             35             12    19.6   both         High-range   \n",
       "401             35             12    19.6   both         High-range   \n",
       "436            122             12    23.2   both         High-range   \n",
       "465            122             12    23.2   both         High-range   \n",
       "480            122             12    23.2   both         High-range   \n",
       "...            ...            ...     ...    ...                ...   \n",
       "32399461        15             12    21.6   both         High-range   \n",
       "32399474       106             12    21.1   both         High-range   \n",
       "32399545       106             12    19.3   both         High-range   \n",
       "32399585        58              1    15.0   both  Mid-range product   \n",
       "32399648        35             12    18.8   both         High-range   \n",
       "\n",
       "             price_range_loc  \n",
       "398       High-range product  \n",
       "401       High-range product  \n",
       "436       High-range product  \n",
       "465       High-range product  \n",
       "480       High-range product  \n",
       "...                      ...  \n",
       "32399461  High-range product  \n",
       "32399474  High-range product  \n",
       "32399545  High-range product  \n",
       "32399585   Mid-range product  \n",
       "32399648  High-range product  \n",
       "\n",
       "[666245 rows x 16 columns]"
      ]
     },
     "execution_count": 65,
     "metadata": {},
     "output_type": "execute_result"
    }
   ],
   "source": [
    "df_pricesabove = df[df['prices']>14.8]\n",
    "df_pricesabove"
   ]
  },
  {
   "cell_type": "code",
   "execution_count": 71,
   "id": "13da8170-afed-4c1e-9a12-2210a871dea3",
   "metadata": {},
   "outputs": [
    {
     "data": {
      "text/plain": [
       "price_range_loc\n",
       "Mid-range product     21860860\n",
       "Low-range product     10126321\n",
       "High-range product      412551\n",
       "Name: count, dtype: int64"
      ]
     },
     "execution_count": 71,
     "metadata": {},
     "output_type": "execute_result"
    }
   ],
   "source": [
    "df['price_range_loc'].value_counts(dropna = False)"
   ]
  },
  {
   "cell_type": "markdown",
   "id": "d07ce285-ab64-46b9-8dfe-00457e9fb8b7",
   "metadata": {},
   "source": [
    "**For Loop Method**"
   ]
  },
  {
   "cell_type": "markdown",
   "id": "f30ffbdd-5d2b-4617-b318-c5741a4a5232",
   "metadata": {},
   "source": [
    "We will create a new column that summarizes how busy each day of the week is."
   ]
  },
  {
   "cell_type": "code",
   "execution_count": 122,
   "id": "d2ca5a4d-9120-4823-9abd-5280d13367cd",
   "metadata": {},
   "outputs": [
    {
     "data": {
      "text/plain": [
       "orders_day_of_week\n",
       "0    6203329\n",
       "1    5659298\n",
       "6    4495887\n",
       "2    4213105\n",
       "5    4205076\n",
       "3    3839865\n",
       "4    3783172\n",
       "Name: count, dtype: int64"
      ]
     },
     "execution_count": 122,
     "metadata": {},
     "output_type": "execute_result"
    }
   ],
   "source": [
    "# Find out on which day most orders take place\n",
    "orders_per_day = df['orders_day_of_week'].value_counts(dropna = False)\n",
    "orders_per_day\n",
    "\n",
    "# 0 - Saturday\n",
    "# 1 - Sunday\n",
    "# 2 - Monday\n",
    "# 3 - Tuesday\n",
    "# 4 - Wednesday"
   ]
  },
  {
   "cell_type": "code",
   "execution_count": 77,
   "id": "fc3d2719-5418-4f27-b616-c696cabc831d",
   "metadata": {},
   "outputs": [],
   "source": [
    "# creates an empty list in which to place the results from the for loops\n",
    "result = []\n",
    "\n",
    "for value in df[\"orders_day_of_week\"]:\n",
    "    # using 0 bc using the frequncy function above, found that 0 or Saturday, is the busiest day\n",
    "    if value == 0:\n",
    "        result.append(\"Busiest day\")\n",
    "    # 4 or Wednesday was found to be the least busy day\n",
    "    elif value == 4:\n",
    "        result.append(\"Least busy\")\n",
    "    else:\n",
    "        result.append(\"Regularly busy\")"
   ]
  },
  {
   "cell_type": "code",
   "execution_count": 78,
   "id": "95ed6b9c-91a9-43f1-84b5-a684f384fad4",
   "metadata": {},
   "outputs": [
    {
     "data": {
      "text/plain": [
       "['Regularly busy',\n",
       " 'Regularly busy',\n",
       " 'Regularly busy',\n",
       " 'Regularly busy',\n",
       " 'Regularly busy']"
      ]
     },
     "execution_count": 78,
     "metadata": {},
     "output_type": "execute_result"
    }
   ],
   "source": [
    "result[:5]"
   ]
  },
  {
   "cell_type": "code",
   "execution_count": 79,
   "id": "56a00f33-39ad-423e-9d10-0daf4b2cb1b7",
   "metadata": {},
   "outputs": [],
   "source": [
    "# combine result list with df by setting a new col equal to it\n",
    "df['busiet_day'] = result"
   ]
  },
  {
   "cell_type": "code",
   "execution_count": 80,
   "id": "d58dcdf5-8119-472f-8b80-70508c1531da",
   "metadata": {},
   "outputs": [
    {
     "data": {
      "text/plain": [
       "busiet_day\n",
       "Regularly busy    22413231\n",
       "Busiest day        6203329\n",
       "Least busy         3783172\n",
       "Name: count, dtype: int64"
      ]
     },
     "execution_count": 80,
     "metadata": {},
     "output_type": "execute_result"
    }
   ],
   "source": [
    "df['busiet_day'].value_counts(dropna = False)"
   ]
  },
  {
   "cell_type": "markdown",
   "id": "1ffd1a6d-997f-415c-bdad-fcf94fdbaa1f",
   "metadata": {},
   "source": [
    "# TASK"
   ]
  },
  {
   "cell_type": "markdown",
   "id": "1b6198c8-9568-48a4-b943-a9d007979767",
   "metadata": {},
   "source": [
    "**Busiest Days Column** *stores the 2 busiest days and two slowest days*"
   ]
  },
  {
   "cell_type": "code",
   "execution_count": 83,
   "id": "9319ddbd-6409-4d2b-a90f-d4bd72a5a4f2",
   "metadata": {},
   "outputs": [],
   "source": [
    "# (QUESTION 2)\n",
    "# Busiest days = 0 Saturday & 1 Sunday\n",
    "# Slowest Days = 4 Wednesday & 3 Tuesday\n",
    "\n",
    "# empty list to place results\n",
    "top_least_days = []\n",
    "\n",
    "for value in df[\"orders_day_of_week\"]:\n",
    "    if value == 0 or value == 1:\n",
    "        top_least_days.append(\"Busiet days\")\n",
    "    elif value == 4 or value == 3:\n",
    "        top_least_days.append(\"Least busy days\")\n",
    "    else:\n",
    "        top_least_days.append(\"Regularly busy\")"
   ]
  },
  {
   "cell_type": "code",
   "execution_count": 84,
   "id": "1977bc9c-c626-47ae-9f24-8df47bc022c3",
   "metadata": {},
   "outputs": [
    {
     "data": {
      "text/plain": [
       "['Regularly busy',\n",
       " 'Regularly busy',\n",
       " 'Regularly busy',\n",
       " 'Regularly busy',\n",
       " 'Regularly busy']"
      ]
     },
     "execution_count": 84,
     "metadata": {},
     "output_type": "execute_result"
    }
   ],
   "source": [
    "top_least_days[:5]"
   ]
  },
  {
   "cell_type": "code",
   "execution_count": 89,
   "id": "48858d25-f1c0-4987-9e5d-3ac9df150c52",
   "metadata": {},
   "outputs": [],
   "source": [
    "# combine resulting list with df\n",
    "df['busiest_days'] = top_least_days"
   ]
  },
  {
   "cell_type": "code",
   "execution_count": 90,
   "id": "f7d18276-ea25-4ec1-ab08-22fa136a38b7",
   "metadata": {},
   "outputs": [
    {
     "data": {
      "text/plain": [
       "busiest_days\n",
       "Regularly busy     12914068\n",
       "Busiet days        11862627\n",
       "Least busy days     7623037\n",
       "Name: count, dtype: int64"
      ]
     },
     "execution_count": 90,
     "metadata": {},
     "output_type": "execute_result"
    }
   ],
   "source": [
    "# (QUESTION 3)\n",
    "# check values frequency of new col\n",
    "df['busiest_days'].value_counts(dropna = False)"
   ]
  },
  {
   "cell_type": "markdown",
   "id": "9d69548a-61e7-40e3-b8b1-66ced20610a0",
   "metadata": {},
   "source": [
    "**Busiest Hours of Day Column** *stores busiest time periods od day*"
   ]
  },
  {
   "cell_type": "code",
   "execution_count": 92,
   "id": "5b09b4e5-7892-439c-bd40-1f6203eff7a2",
   "metadata": {},
   "outputs": [
    {
     "data": {
      "text/html": [
       "<div>\n",
       "<style scoped>\n",
       "    .dataframe tbody tr th:only-of-type {\n",
       "        vertical-align: middle;\n",
       "    }\n",
       "\n",
       "    .dataframe tbody tr th {\n",
       "        vertical-align: top;\n",
       "    }\n",
       "\n",
       "    .dataframe thead th {\n",
       "        text-align: right;\n",
       "    }\n",
       "</style>\n",
       "<table border=\"1\" class=\"dataframe\">\n",
       "  <thead>\n",
       "    <tr style=\"text-align: right;\">\n",
       "      <th></th>\n",
       "      <th>order_id</th>\n",
       "      <th>user_id</th>\n",
       "      <th>order_number</th>\n",
       "      <th>orders_day_of_week</th>\n",
       "      <th>order_hour_of_day</th>\n",
       "      <th>days_since_prior_order</th>\n",
       "      <th>product_id</th>\n",
       "      <th>add_to_cart_order</th>\n",
       "      <th>reordered</th>\n",
       "      <th>product_name</th>\n",
       "      <th>aisle_id</th>\n",
       "      <th>department_id</th>\n",
       "      <th>prices</th>\n",
       "      <th>_merge</th>\n",
       "      <th>price_range</th>\n",
       "      <th>price_range_loc</th>\n",
       "      <th>busiet_day</th>\n",
       "      <th>busiest_days</th>\n",
       "    </tr>\n",
       "  </thead>\n",
       "  <tbody>\n",
       "    <tr>\n",
       "      <th>0</th>\n",
       "      <td>2539329</td>\n",
       "      <td>1</td>\n",
       "      <td>1</td>\n",
       "      <td>2</td>\n",
       "      <td>8</td>\n",
       "      <td>NaN</td>\n",
       "      <td>196</td>\n",
       "      <td>1</td>\n",
       "      <td>0</td>\n",
       "      <td>Soda</td>\n",
       "      <td>77</td>\n",
       "      <td>7</td>\n",
       "      <td>9.0</td>\n",
       "      <td>both</td>\n",
       "      <td>Mid-range product</td>\n",
       "      <td>Mid-range product</td>\n",
       "      <td>Regularly busy</td>\n",
       "      <td>Regularly busy</td>\n",
       "    </tr>\n",
       "  </tbody>\n",
       "</table>\n",
       "</div>"
      ],
      "text/plain": [
       "   order_id  user_id  order_number  orders_day_of_week  order_hour_of_day  \\\n",
       "0   2539329        1             1                   2                  8   \n",
       "\n",
       "   days_since_prior_order  product_id  add_to_cart_order  reordered  \\\n",
       "0                     NaN         196                  1          0   \n",
       "\n",
       "  product_name  aisle_id  department_id  prices _merge        price_range  \\\n",
       "0         Soda        77              7     9.0   both  Mid-range product   \n",
       "\n",
       "     price_range_loc      busiet_day    busiest_days  \n",
       "0  Mid-range product  Regularly busy  Regularly busy  "
      ]
     },
     "execution_count": 92,
     "metadata": {},
     "output_type": "execute_result"
    }
   ],
   "source": [
    "# determine which col to use\n",
    "df.head(1)\n",
    "\n",
    "# will use order_hour_of_day"
   ]
  },
  {
   "cell_type": "code",
   "execution_count": 42,
   "id": "7904eefb-c8f3-4f5d-bee7-f0cdc07ad2bf",
   "metadata": {},
   "outputs": [
    {
     "data": {
      "text/plain": [
       "order_hour_of_day\n",
       "10    2761333\n",
       "11    2735694\n",
       "14    2688728\n",
       "15    2661718\n",
       "13    2660570\n",
       "12    2618104\n",
       "16    2534744\n",
       "9     2453842\n",
       "17    2087273\n",
       "8     1717863\n",
       "18    1636226\n",
       "19    1258076\n",
       "20     976000\n",
       "7      890923\n",
       "21     795528\n",
       "22     634159\n",
       "23     402272\n",
       "6      290450\n",
       "0      218742\n",
       "1      115683\n",
       "5       87944\n",
       "2       69360\n",
       "4       53232\n",
       "3       51268\n",
       "Name: count, dtype: int64"
      ]
     },
     "execution_count": 42,
     "metadata": {},
     "output_type": "execute_result"
    }
   ],
   "source": [
    "# detemine top and least hours of day\n",
    "orders_per_hour = df['order_hour_of_day'].value_counts(dropna = False)\n",
    "orders_per_hour"
   ]
  },
  {
   "cell_type": "markdown",
   "id": "05985103-8005-46c4-b7af-f711e1be75a3",
   "metadata": {},
   "source": [
    "- **Most orders**: 10 - 15\n",
    "- **Fewest orders**: 0 - 5"
   ]
  },
  {
   "cell_type": "code",
   "execution_count": 95,
   "id": "fba2db96-8972-48d2-9bec-e46ca95806fa",
   "metadata": {},
   "outputs": [],
   "source": [
    "# (QUESTION 4)\n",
    "# label top 5 as 'most orders', bottom 5 as 'fewest orders', and remaining 'average orders'\n",
    "\n",
    "hour_business = []\n",
    "\n",
    "for value in df[\"order_hour_of_day\"]:\n",
    "    if value >= 0 and value <= 5:\n",
    "        hour_business.append(\"Fewest orders\")\n",
    "    elif value >= 10 and value <= 15:\n",
    "        hour_business.append(\"Most orders\")\n",
    "    else:\n",
    "        hour_business.append(\"Average orders\")\n",
    "\n",
    "# combine results list to df\n",
    "df['busiest_period_of_day'] = hour_business"
   ]
  },
  {
   "cell_type": "code",
   "execution_count": 98,
   "id": "f4141827-f3c8-42d2-90fa-900acef8c962",
   "metadata": {},
   "outputs": [
    {
     "data": {
      "text/plain": [
       "busiest_period_of_day\n",
       "Most orders       16126147\n",
       "Average orders    15677356\n",
       "Fewest orders       596229\n",
       "Name: count, dtype: int64"
      ]
     },
     "execution_count": 98,
     "metadata": {},
     "output_type": "execute_result"
    }
   ],
   "source": [
    "# (QUESTION 5)\n",
    "# show frquency of hour business categories\n",
    "df['busiest_period_of_day'].value_counts(dropna = False)"
   ]
  },
  {
   "cell_type": "code",
   "execution_count": 105,
   "id": "21845cbc-81db-4fd1-99db-9967764beb29",
   "metadata": {},
   "outputs": [
    {
     "data": {
      "text/plain": [
       "(32399732, 19)"
      ]
     },
     "execution_count": 105,
     "metadata": {},
     "output_type": "execute_result"
    }
   ],
   "source": [
    "df.shape"
   ]
  },
  {
   "cell_type": "markdown",
   "id": "e4404c82-6c89-48e8-a681-143e512c53c0",
   "metadata": {},
   "source": [
    "## Export Data"
   ]
  },
  {
   "cell_type": "code",
   "execution_count": 108,
   "id": "7ff7bf31-b11e-4c8b-84de-a22ca5e9f22f",
   "metadata": {},
   "outputs": [],
   "source": [
    "# export new df created\n",
    "df.to_pickle(os.path.join(path, '02 Data', 'Prepared Data', 'labeled_ords_prods.pkl'))"
   ]
  },
  {
   "cell_type": "code",
   "execution_count": null,
   "id": "9e130e4d-5e50-4a2f-953b-e1c04ed3ba15",
   "metadata": {},
   "outputs": [],
   "source": []
  }
 ],
 "metadata": {
  "kernelspec": {
   "display_name": "Python 3 (ipykernel)",
   "language": "python",
   "name": "python3"
  },
  "language_info": {
   "codemirror_mode": {
    "name": "ipython",
    "version": 3
   },
   "file_extension": ".py",
   "mimetype": "text/x-python",
   "name": "python",
   "nbconvert_exporter": "python",
   "pygments_lexer": "ipython3",
   "version": "3.12.7"
  }
 },
 "nbformat": 4,
 "nbformat_minor": 5
}
